{
 "cells": [
  {
   "cell_type": "code",
   "execution_count": 1,
   "metadata": {},
   "outputs": [],
   "source": [
    "#OUTDIR=#path/to/output/directory\n",
    "OUTDIR=\"/nrnb/ukb-majithia/data/exome_debug/final\""
   ]
  },
  {
   "cell_type": "code",
   "execution_count": 2,
   "metadata": {
    "ExecuteTime": {
     "end_time": "2021-03-23T21:55:29.118571Z",
     "start_time": "2021-03-23T21:55:29.112042Z"
    },
    "init_cell": true
   },
   "outputs": [],
   "source": [
    "import pandas as pd\n",
    "import numpy as np"
   ]
  },
  {
   "cell_type": "code",
   "execution_count": 3,
   "metadata": {
    "ExecuteTime": {
     "end_time": "2021-03-23T18:17:36.168816Z",
     "start_time": "2021-03-23T18:17:36.162390Z"
    },
    "init_cell": true
   },
   "outputs": [],
   "source": [
    "import matplotlib as mpl\n",
    "mpl.rcParams['pdf.fonttype'] = 42\n",
    "mpl.rcParams['ps.fonttype'] = 42"
   ]
  },
  {
   "cell_type": "markdown",
   "metadata": {},
   "source": [
    "### SNP/Exome Comparison\n"
   ]
  },
  {
   "cell_type": "code",
   "execution_count": 9,
   "metadata": {
    "ExecuteTime": {
     "end_time": "2021-03-23T18:20:58.670511Z",
     "start_time": "2021-03-23T18:20:58.601442Z"
    },
    "init_cell": true
   },
   "outputs": [],
   "source": [
    "exome_maf = pd.read_csv(OUTDIR + \"/exome_maf_final.tsv\", sep=\"\\t\", index_col=0)\n",
    "snp_maf = pd.read_csv(OUTDIR + \"/snp_maf_final.tsv\", sep=\"\\t\", index_col=6)"
   ]
  },
  {
   "cell_type": "code",
   "execution_count": 10,
   "metadata": {
    "ExecuteTime": {
     "end_time": "2021-03-23T18:21:01.887375Z",
     "start_time": "2021-03-23T18:21:01.876861Z"
    }
   },
   "outputs": [
    {
     "data": {
      "text/plain": [
       "Index(['A1', 'A2', 'MAF', 'NCHROBS'], dtype='object')"
      ]
     },
     "execution_count": 10,
     "metadata": {},
     "output_type": "execute_result"
    }
   ],
   "source": [
    "exome_maf.columns"
   ]
  },
  {
   "cell_type": "code",
   "execution_count": 11,
   "metadata": {
    "ExecuteTime": {
     "end_time": "2021-03-23T18:21:02.593985Z",
     "start_time": "2021-03-23T18:21:02.580719Z"
    }
   },
   "outputs": [
    {
     "data": {
      "text/html": [
       "<div>\n",
       "<style scoped>\n",
       "    .dataframe tbody tr th:only-of-type {\n",
       "        vertical-align: middle;\n",
       "    }\n",
       "\n",
       "    .dataframe tbody tr th {\n",
       "        vertical-align: top;\n",
       "    }\n",
       "\n",
       "    .dataframe thead th {\n",
       "        text-align: right;\n",
       "    }\n",
       "</style>\n",
       "<table border=\"1\" class=\"dataframe\">\n",
       "  <thead>\n",
       "    <tr style=\"text-align: right;\">\n",
       "      <th></th>\n",
       "      <th>A1</th>\n",
       "      <th>A2</th>\n",
       "      <th>MAF</th>\n",
       "      <th>NCHROBS</th>\n",
       "    </tr>\n",
       "    <tr>\n",
       "      <th>SNP</th>\n",
       "      <th></th>\n",
       "      <th></th>\n",
       "      <th></th>\n",
       "      <th></th>\n",
       "    </tr>\n",
       "  </thead>\n",
       "  <tbody>\n",
       "    <tr>\n",
       "      <th>1:946538:G:A</th>\n",
       "      <td>A</td>\n",
       "      <td>G</td>\n",
       "      <td>0.06845</td>\n",
       "      <td>401280</td>\n",
       "    </tr>\n",
       "    <tr>\n",
       "      <th>1:953858:G:A</th>\n",
       "      <td>A</td>\n",
       "      <td>G</td>\n",
       "      <td>0.05355</td>\n",
       "      <td>401276</td>\n",
       "    </tr>\n",
       "    <tr>\n",
       "      <th>1:962358:C:T</th>\n",
       "      <td>T</td>\n",
       "      <td>C</td>\n",
       "      <td>0.06563</td>\n",
       "      <td>401278</td>\n",
       "    </tr>\n",
       "    <tr>\n",
       "      <th>1:1014228:G:A</th>\n",
       "      <td>A</td>\n",
       "      <td>G</td>\n",
       "      <td>0.39290</td>\n",
       "      <td>401286</td>\n",
       "    </tr>\n",
       "    <tr>\n",
       "      <th>1:1043382:G:A</th>\n",
       "      <td>A</td>\n",
       "      <td>G</td>\n",
       "      <td>0.01179</td>\n",
       "      <td>401286</td>\n",
       "    </tr>\n",
       "  </tbody>\n",
       "</table>\n",
       "</div>"
      ],
      "text/plain": [
       "              A1 A2      MAF  NCHROBS\n",
       "SNP                                  \n",
       "1:946538:G:A   A  G  0.06845   401280\n",
       "1:953858:G:A   A  G  0.05355   401276\n",
       "1:962358:C:T   T  C  0.06563   401278\n",
       "1:1014228:G:A  A  G  0.39290   401286\n",
       "1:1043382:G:A  A  G  0.01179   401286"
      ]
     },
     "execution_count": 11,
     "metadata": {},
     "output_type": "execute_result"
    }
   ],
   "source": [
    "exome_maf.head()"
   ]
  },
  {
   "cell_type": "code",
   "execution_count": 12,
   "metadata": {
    "ExecuteTime": {
     "end_time": "2021-03-23T18:21:03.273809Z",
     "start_time": "2021-03-23T18:21:03.254256Z"
    }
   },
   "outputs": [
    {
     "data": {
      "text/html": [
       "<div>\n",
       "<style scoped>\n",
       "    .dataframe tbody tr th:only-of-type {\n",
       "        vertical-align: middle;\n",
       "    }\n",
       "\n",
       "    .dataframe tbody tr th {\n",
       "        vertical-align: top;\n",
       "    }\n",
       "\n",
       "    .dataframe thead th {\n",
       "        text-align: right;\n",
       "    }\n",
       "</style>\n",
       "<table border=\"1\" class=\"dataframe\">\n",
       "  <thead>\n",
       "    <tr style=\"text-align: right;\">\n",
       "      <th></th>\n",
       "      <th>ID</th>\n",
       "      <th>A1</th>\n",
       "      <th>A2</th>\n",
       "      <th>MAF</th>\n",
       "      <th>NCHROBS</th>\n",
       "      <th>ID2</th>\n",
       "    </tr>\n",
       "    <tr>\n",
       "      <th>SNP</th>\n",
       "      <th></th>\n",
       "      <th></th>\n",
       "      <th></th>\n",
       "      <th></th>\n",
       "      <th></th>\n",
       "      <th></th>\n",
       "    </tr>\n",
       "  </thead>\n",
       "  <tbody>\n",
       "    <tr>\n",
       "      <th>1:946538:G:A</th>\n",
       "      <td>rs35471880</td>\n",
       "      <td>A</td>\n",
       "      <td>G</td>\n",
       "      <td>0.06663</td>\n",
       "      <td>394714</td>\n",
       "      <td>rs35471880</td>\n",
       "    </tr>\n",
       "    <tr>\n",
       "      <th>1:953858:G:A</th>\n",
       "      <td>rs3828049</td>\n",
       "      <td>A</td>\n",
       "      <td>G</td>\n",
       "      <td>0.05322</td>\n",
       "      <td>400522</td>\n",
       "      <td>rs3828049</td>\n",
       "    </tr>\n",
       "    <tr>\n",
       "      <th>1:962358:C:T</th>\n",
       "      <td>rs6696971</td>\n",
       "      <td>T</td>\n",
       "      <td>C</td>\n",
       "      <td>0.06551</td>\n",
       "      <td>400386</td>\n",
       "      <td>rs6696971</td>\n",
       "    </tr>\n",
       "    <tr>\n",
       "      <th>1:1014228:G:A</th>\n",
       "      <td>Affx-15871198</td>\n",
       "      <td>A</td>\n",
       "      <td>G</td>\n",
       "      <td>0.39300</td>\n",
       "      <td>400350</td>\n",
       "      <td>Affx-15871198</td>\n",
       "    </tr>\n",
       "    <tr>\n",
       "      <th>1:1043382:G:A</th>\n",
       "      <td>rs138288952</td>\n",
       "      <td>A</td>\n",
       "      <td>G</td>\n",
       "      <td>0.01177</td>\n",
       "      <td>400872</td>\n",
       "      <td>rs138288952</td>\n",
       "    </tr>\n",
       "  </tbody>\n",
       "</table>\n",
       "</div>"
      ],
      "text/plain": [
       "                          ID A1 A2      MAF  NCHROBS            ID2\n",
       "SNP                                                                \n",
       "1:946538:G:A      rs35471880  A  G  0.06663   394714     rs35471880\n",
       "1:953858:G:A       rs3828049  A  G  0.05322   400522      rs3828049\n",
       "1:962358:C:T       rs6696971  T  C  0.06551   400386      rs6696971\n",
       "1:1014228:G:A  Affx-15871198  A  G  0.39300   400350  Affx-15871198\n",
       "1:1043382:G:A    rs138288952  A  G  0.01177   400872    rs138288952"
      ]
     },
     "execution_count": 12,
     "metadata": {},
     "output_type": "execute_result"
    }
   ],
   "source": [
    "snp_maf.head()"
   ]
  },
  {
   "cell_type": "code",
   "execution_count": 13,
   "metadata": {
    "ExecuteTime": {
     "end_time": "2021-03-23T18:21:06.697494Z",
     "start_time": "2021-03-23T18:21:04.057333Z"
    },
    "init_cell": true
   },
   "outputs": [],
   "source": [
    "%matplotlib inline\n",
    "\n",
    "import matplotlib as mpl\n",
    "mpl.rcParams['figure.dpi']= 200\n",
    "import matplotlib.pyplot as plt\n",
    "import seaborn as sns; sns.set\n",
    "import numpy as np"
   ]
  },
  {
   "cell_type": "code",
   "execution_count": 14,
   "metadata": {
    "ExecuteTime": {
     "end_time": "2021-03-23T18:21:06.830173Z",
     "start_time": "2021-03-23T18:21:06.810823Z"
    }
   },
   "outputs": [],
   "source": [
    "df_maf = snp_maf.join(exome_maf, how=\"left\", lsuffix=' snpchip', rsuffix=' exome')"
   ]
  },
  {
   "cell_type": "code",
   "execution_count": 15,
   "metadata": {
    "ExecuteTime": {
     "end_time": "2021-03-23T18:21:06.989260Z",
     "start_time": "2021-03-23T18:21:06.963357Z"
    }
   },
   "outputs": [
    {
     "data": {
      "text/html": [
       "<div>\n",
       "<style scoped>\n",
       "    .dataframe tbody tr th:only-of-type {\n",
       "        vertical-align: middle;\n",
       "    }\n",
       "\n",
       "    .dataframe tbody tr th {\n",
       "        vertical-align: top;\n",
       "    }\n",
       "\n",
       "    .dataframe thead th {\n",
       "        text-align: right;\n",
       "    }\n",
       "</style>\n",
       "<table border=\"1\" class=\"dataframe\">\n",
       "  <thead>\n",
       "    <tr style=\"text-align: right;\">\n",
       "      <th></th>\n",
       "      <th>ID</th>\n",
       "      <th>A1 snpchip</th>\n",
       "      <th>A2 snpchip</th>\n",
       "      <th>MAF snpchip</th>\n",
       "      <th>NCHROBS snpchip</th>\n",
       "      <th>ID2</th>\n",
       "      <th>A1 exome</th>\n",
       "      <th>A2 exome</th>\n",
       "      <th>MAF exome</th>\n",
       "      <th>NCHROBS exome</th>\n",
       "    </tr>\n",
       "    <tr>\n",
       "      <th>SNP</th>\n",
       "      <th></th>\n",
       "      <th></th>\n",
       "      <th></th>\n",
       "      <th></th>\n",
       "      <th></th>\n",
       "      <th></th>\n",
       "      <th></th>\n",
       "      <th></th>\n",
       "      <th></th>\n",
       "      <th></th>\n",
       "    </tr>\n",
       "  </thead>\n",
       "  <tbody>\n",
       "    <tr>\n",
       "      <th>1:946538:G:A</th>\n",
       "      <td>rs35471880</td>\n",
       "      <td>A</td>\n",
       "      <td>G</td>\n",
       "      <td>0.06663</td>\n",
       "      <td>394714</td>\n",
       "      <td>rs35471880</td>\n",
       "      <td>A</td>\n",
       "      <td>G</td>\n",
       "      <td>0.06845</td>\n",
       "      <td>401280</td>\n",
       "    </tr>\n",
       "    <tr>\n",
       "      <th>1:953858:G:A</th>\n",
       "      <td>rs3828049</td>\n",
       "      <td>A</td>\n",
       "      <td>G</td>\n",
       "      <td>0.05322</td>\n",
       "      <td>400522</td>\n",
       "      <td>rs3828049</td>\n",
       "      <td>A</td>\n",
       "      <td>G</td>\n",
       "      <td>0.05355</td>\n",
       "      <td>401276</td>\n",
       "    </tr>\n",
       "    <tr>\n",
       "      <th>1:962358:C:T</th>\n",
       "      <td>rs6696971</td>\n",
       "      <td>T</td>\n",
       "      <td>C</td>\n",
       "      <td>0.06551</td>\n",
       "      <td>400386</td>\n",
       "      <td>rs6696971</td>\n",
       "      <td>T</td>\n",
       "      <td>C</td>\n",
       "      <td>0.06563</td>\n",
       "      <td>401278</td>\n",
       "    </tr>\n",
       "    <tr>\n",
       "      <th>1:1014228:G:A</th>\n",
       "      <td>Affx-15871198</td>\n",
       "      <td>A</td>\n",
       "      <td>G</td>\n",
       "      <td>0.39300</td>\n",
       "      <td>400350</td>\n",
       "      <td>Affx-15871198</td>\n",
       "      <td>A</td>\n",
       "      <td>G</td>\n",
       "      <td>0.39290</td>\n",
       "      <td>401286</td>\n",
       "    </tr>\n",
       "    <tr>\n",
       "      <th>1:1043382:G:A</th>\n",
       "      <td>rs138288952</td>\n",
       "      <td>A</td>\n",
       "      <td>G</td>\n",
       "      <td>0.01177</td>\n",
       "      <td>400872</td>\n",
       "      <td>rs138288952</td>\n",
       "      <td>A</td>\n",
       "      <td>G</td>\n",
       "      <td>0.01179</td>\n",
       "      <td>401286</td>\n",
       "    </tr>\n",
       "  </tbody>\n",
       "</table>\n",
       "</div>"
      ],
      "text/plain": [
       "                          ID A1 snpchip A2 snpchip  MAF snpchip  \\\n",
       "SNP                                                               \n",
       "1:946538:G:A      rs35471880          A          G      0.06663   \n",
       "1:953858:G:A       rs3828049          A          G      0.05322   \n",
       "1:962358:C:T       rs6696971          T          C      0.06551   \n",
       "1:1014228:G:A  Affx-15871198          A          G      0.39300   \n",
       "1:1043382:G:A    rs138288952          A          G      0.01177   \n",
       "\n",
       "               NCHROBS snpchip            ID2 A1 exome A2 exome  MAF exome  \\\n",
       "SNP                                                                          \n",
       "1:946538:G:A            394714     rs35471880        A        G    0.06845   \n",
       "1:953858:G:A            400522      rs3828049        A        G    0.05355   \n",
       "1:962358:C:T            400386      rs6696971        T        C    0.06563   \n",
       "1:1014228:G:A           400350  Affx-15871198        A        G    0.39290   \n",
       "1:1043382:G:A           400872    rs138288952        A        G    0.01179   \n",
       "\n",
       "               NCHROBS exome  \n",
       "SNP                           \n",
       "1:946538:G:A          401280  \n",
       "1:953858:G:A          401276  \n",
       "1:962358:C:T          401278  \n",
       "1:1014228:G:A         401286  \n",
       "1:1043382:G:A         401286  "
      ]
     },
     "execution_count": 15,
     "metadata": {},
     "output_type": "execute_result"
    }
   ],
   "source": [
    "df_maf.head()"
   ]
  },
  {
   "cell_type": "code",
   "execution_count": 16,
   "metadata": {
    "ExecuteTime": {
     "end_time": "2021-03-23T18:21:09.118319Z",
     "start_time": "2021-03-23T18:21:09.106265Z"
    }
   },
   "outputs": [
    {
     "name": "stdout",
     "output_type": "stream",
     "text": [
      "(24080,)\n",
      "(24080,)\n"
     ]
    }
   ],
   "source": [
    "df_maf[\"MAF exome\"] = df_maf[\"MAF exome\"].replace(to_replace=float('nan'), value=0.0) \n",
    "print(df_maf[\"MAF exome\"].shape)\n",
    "print(df_maf[\"MAF snpchip\"].shape)"
   ]
  },
  {
   "cell_type": "code",
   "execution_count": 17,
   "metadata": {
    "ExecuteTime": {
     "end_time": "2021-03-23T21:55:55.372458Z",
     "start_time": "2021-03-23T21:55:54.400095Z"
    }
   },
   "outputs": [
    {
     "data": {
      "text/plain": [
       "<Figure size 432x288 with 0 Axes>"
      ]
     },
     "metadata": {},
     "output_type": "display_data"
    },
    {
     "data": {
      "image/png": "[encoded data removed]",
      "text/plain": [
       "<Figure size 432x432 with 3 Axes>"
      ]
     },
     "metadata": {
      "needs_background": "light"
     },
     "output_type": "display_data"
    }
   ],
   "source": [
    "plt.figure()\n",
    "sns.jointplot(x='MAF exome', y='MAF snpchip',data=df_maf, s=3, marginal_kws=dict(bins=np.linspace(0, 0.5,40)))\n",
    "plt.savefig(OUTDIR + \"/snp_vs_exome_comparison.png\")"
   ]
  },
  {
   "cell_type": "markdown",
   "metadata": {},
   "source": [
    "### gnomAD/exome comparison"
   ]
  },
  {
   "cell_type": "code",
   "execution_count": null,
   "metadata": {},
   "outputs": [],
   "source": [
    "df = pd.read_csv(OUTDIR+\"/combined_data.txt\", sep=\"\\s+\", header=None)\n",
    "df.columns = [\"CHR\", \"Gene\", \"UKBB\", \"gnomAD\"]\n",
    "df.head()"
   ]
  },
  {
   "cell_type": "code",
   "execution_count": null,
   "metadata": {},
   "outputs": [],
   "source": [
    "plt.figure()\n",
    "fig=sns.jointplot(y=\"gnomAD\", x=\"UKBB\", data=df, s=1, xlim=(-40, 3000), ylim=(-40, 3000), marginal_kws=dict(bins=list(range(0,31000,100))))\n",
    "plt.savefig(outdir+\"/gnomad_v_exome_comparison.png\")\n"
   ]
  }
 ],
 "metadata": {
  "celltoolbar": "Initialization Cell",
  "kernelspec": {
   "display_name": "MyPy",
   "language": "python",
   "name": "mypy"
  },
  "language_info": {
   "codemirror_mode": {
    "name": "ipython",
    "version": 3
   },
   "file_extension": ".py",
   "mimetype": "text/x-python",
   "name": "python",
   "nbconvert_exporter": "python",
   "pygments_lexer": "ipython3",
   "version": "3.7.9"
  },
  "toc": {
   "base_numbering": 1,
   "nav_menu": {},
   "number_sections": true,
   "sideBar": true,
   "skip_h1_title": false,
   "title_cell": "Table of Contents",
   "title_sidebar": "Contents",
   "toc_cell": false,
   "toc_position": {
    "height": "calc(100% - 180px)",
    "left": "10px",
    "top": "150px",
    "width": "341.198px"
   },
   "toc_section_display": true,
   "toc_window_display": false
  },
  "varInspector": {
   "cols": {
    "lenName": 16,
    "lenType": 16,
    "lenVar": 40
   },
   "kernels_config": {
    "python": {
     "delete_cmd_postfix": "",
     "delete_cmd_prefix": "del ",
     "library": "var_list.py",
     "varRefreshCmd": "print(var_dic_list())"
    },
    "r": {
     "delete_cmd_postfix": ") ",
     "delete_cmd_prefix": "rm(",
     "library": "var_list.r",
     "varRefreshCmd": "cat(var_dic_list()) "
    }
   },
   "types_to_exclude": [
    "module",
    "function",
    "builtin_function_or_method",
    "instance",
    "_Feature"
   ],
   "window_display": false
  }
 },
 "nbformat": 4,
 "nbformat_minor": 4
}
